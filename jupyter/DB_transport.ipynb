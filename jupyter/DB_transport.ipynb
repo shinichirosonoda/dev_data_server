{
 "cells": [
  {
   "cell_type": "code",
   "execution_count": 1,
   "id": "a258e20f",
   "metadata": {},
   "outputs": [],
   "source": [
    "import glob"
   ]
  },
  {
   "cell_type": "code",
   "execution_count": 2,
   "id": "afee04ff",
   "metadata": {},
   "outputs": [],
   "source": [
    "path = \"../long_data/*/*.csv\"\n",
    "files = glob.glob(path)\n",
    "files = sorted(set(files), key=files.index)"
   ]
  },
  {
   "cell_type": "code",
   "execution_count": 3,
   "id": "1b0bfcf1",
   "metadata": {},
   "outputs": [],
   "source": [
    "import sys\n",
    "sys.path.append('E:/git2/dev_data_server/mems_server/')"
   ]
  },
  {
   "cell_type": "code",
   "execution_count": 4,
   "id": "e650b473",
   "metadata": {},
   "outputs": [],
   "source": [
    "#from db_init import db_init_main\n",
    "from db_control import data_create_board"
   ]
  },
  {
   "cell_type": "code",
   "execution_count": 5,
   "id": "7073cd4c",
   "metadata": {},
   "outputs": [],
   "source": [
    "#db_init_main()"
   ]
  },
  {
   "cell_type": "code",
   "execution_count": 6,
   "id": "ef9e7148",
   "metadata": {},
   "outputs": [
    {
     "data": {
      "text/plain": [
       "84"
      ]
     },
     "execution_count": 6,
     "metadata": {},
     "output_type": "execute_result"
    }
   ],
   "source": [
    "for file in files:\n",
    "    board_id = file.split(\"\\\\\")[-2]\n",
    "    sample_name = file.split(\"_\")[-1][:-4]\n",
    "    file_name = file\n",
    "    mes_mode = \"start\"\n",
    "    dict_data = {\"sample_name\": sample_name,\\\n",
    "                 \"board_id\": board_id,\\\n",
    "                 \"file_name\": file_name,\\\n",
    "                 \"mes_mode\": \"start\"}\n",
    "    id = data_create_board(dict_data)\n",
    "id"
   ]
  },
  {
   "cell_type": "code",
   "execution_count": 7,
   "id": "bbb4a07b",
   "metadata": {},
   "outputs": [],
   "source": [
    "path = \"../long_data/*/*.txt\"\n",
    "files = glob.glob(path)\n",
    "files = sorted(set(files), key=files.index)"
   ]
  },
  {
   "cell_type": "code",
   "execution_count": 8,
   "id": "5cdd7095",
   "metadata": {},
   "outputs": [
    {
     "data": {
      "text/plain": [
       "106"
      ]
     },
     "execution_count": 8,
     "metadata": {},
     "output_type": "execute_result"
    }
   ],
   "source": [
    "for file in files:\n",
    "    board_id = file.split(\"\\\\\")[-2]\n",
    "    sample_name = file.split(\"_\")[-1][:-4]\n",
    "    file_name = file\n",
    "    mes_mode = \"start\"\n",
    "    dict_data = {\"sample_name\": sample_name,\\\n",
    "                 \"board_id\": board_id,\\\n",
    "                 \"file_name\": file_name,\\\n",
    "                 \"mes_mode\": \"pick\"}\n",
    "    id = data_create_board(dict_data)\n",
    "id"
   ]
  },
  {
   "cell_type": "code",
   "execution_count": 9,
   "id": "72ca1737",
   "metadata": {},
   "outputs": [
    {
     "data": {
      "text/plain": [
       "['../mems_controller/log\\\\2023-02-07-15-16-14_TT2222222.csv',\n",
       " '../mems_controller/log\\\\2023-02-07-15-26-13_TT2222222.csv',\n",
       " '../mems_controller/log\\\\2023-02-07-15-47-50_TT2222222.csv',\n",
       " '../mems_controller/log\\\\2023-02-07-15-53-12_TT2222222.csv',\n",
       " '../mems_controller/log\\\\2023-02-07-15-58-39_TT2222222.csv',\n",
       " '../mems_controller/log\\\\2023-02-07-16-27-28_TT2222222.csv']"
      ]
     },
     "execution_count": 9,
     "metadata": {},
     "output_type": "execute_result"
    }
   ],
   "source": [
    "path = \"../mems_controller/log/*.csv\"\n",
    "files = glob.glob(path)\n",
    "files = sorted(set(files), key=files.index)\n",
    "files"
   ]
  },
  {
   "cell_type": "code",
   "execution_count": 10,
   "id": "4a998048",
   "metadata": {},
   "outputs": [
    {
     "data": {
      "text/plain": [
       "['../LongTermEval/log\\\\2023-02-07-15-16-16_FOV_TT2222222.csv',\n",
       " '../LongTermEval/log\\\\2023-02-07-15-26-14_FOV_TT2222222.csv',\n",
       " '../LongTermEval/log\\\\2023-02-07-15-47-52_FOV_TT2222222.csv',\n",
       " '../LongTermEval/log\\\\2023-02-07-15-53-14_FOV_TT2222222.csv',\n",
       " '../LongTermEval/log\\\\2023-02-07-15-58-41_FOV_TT2222222.csv',\n",
       " '../LongTermEval/log\\\\2023-02-07-16-27-30_FOV_TT2222222.csv']"
      ]
     },
     "execution_count": 10,
     "metadata": {},
     "output_type": "execute_result"
    }
   ],
   "source": [
    "path = \"../LongTermEval/log/*.csv\"\n",
    "files = glob.glob(path)\n",
    "files = sorted(set(files), key=files.index)\n",
    "files"
   ]
  },
  {
   "cell_type": "code",
   "execution_count": null,
   "id": "7ffda5dc",
   "metadata": {},
   "outputs": [],
   "source": []
  }
 ],
 "metadata": {
  "kernelspec": {
   "display_name": "Python 3 (ipykernel)",
   "language": "python",
   "name": "python3"
  },
  "language_info": {
   "codemirror_mode": {
    "name": "ipython",
    "version": 3
   },
   "file_extension": ".py",
   "mimetype": "text/x-python",
   "name": "python",
   "nbconvert_exporter": "python",
   "pygments_lexer": "ipython3",
   "version": "3.9.13"
  }
 },
 "nbformat": 4,
 "nbformat_minor": 5
}
